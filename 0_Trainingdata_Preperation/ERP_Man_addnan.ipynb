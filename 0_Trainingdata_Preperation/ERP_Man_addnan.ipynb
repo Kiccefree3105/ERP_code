{
 "cells": [
  {
   "cell_type": "code",
   "execution_count": 2,
   "id": "59498c14",
   "metadata": {},
   "outputs": [
    {
     "name": "stdout",
     "output_type": "stream",
     "text": [
      "Table A has been reinserted into its original positions, and all deleted empty rows have been restored\n"
     ]
    }
   ],
   "source": [
    "import pandas as pd\n",
    "import numpy as np\n",
    "\n",
    "# 1. Read data\n",
    "df_b = pd.read_csv('D:/A_sem2/ERP/Code/GitHub_Junjie/features_Manchester.csv')         # reference full table\n",
    "df_a = pd.read_excel('D:/A_sem2/ERP/Code/HIA_Man_max_min_mean.xlsx')        # table with missing rows\n",
    "\n",
    "# Here we assume you can use some fields from table B to determine which rows are the \"valid rows\" of table A\n",
    "# For example: valid rows are those where the 3rd column of B is not null\n",
    "mask = ~df_b.iloc[:, 2].isna()  # replace with your actual logic\n",
    "\n",
    "# Create a new table to fill empty rows\n",
    "df_res = pd.DataFrame(np.nan, index=range(len(df_b)), columns=df_a.columns)\n",
    "# Use mask to find valid positions and put A table rows into those positions in order\n",
    "df_res.loc[mask, :] = df_a.values\n",
    "\n",
    "df_res.to_excel('HIA_Man_max_min_mean_restored.xlsx', index=False)\n",
    "print('Done')\n"
   ]
  }
 ],
 "metadata": {
  "kernelspec": {
   "display_name": "base",
   "language": "python",
   "name": "python3"
  },
  "language_info": {
   "codemirror_mode": {
    "name": "ipython",
    "version": 3
   },
   "file_extension": ".py",
   "mimetype": "text/x-python",
   "name": "python",
   "nbconvert_exporter": "python",
   "pygments_lexer": "ipython3",
   "version": "3.12.3"
  }
 },
 "nbformat": 4,
 "nbformat_minor": 5
}
