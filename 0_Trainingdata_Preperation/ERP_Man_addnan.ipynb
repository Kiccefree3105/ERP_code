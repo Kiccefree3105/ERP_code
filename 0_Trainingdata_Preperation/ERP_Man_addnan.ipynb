{
 "cells": [
  {
   "cell_type": "code",
   "execution_count": 2,
   "id": "59498c14",
   "metadata": {},
   "outputs": [
    {
     "name": "stdout",
     "output_type": "stream",
     "text": [
      "A表已插回原位，并补全所有被删空行\n"
     ]
    }
   ],
   "source": [
    "import pandas as pd\n",
    "import numpy as np\n",
    "\n",
    "# 1. 读取数据\n",
    "df_b = pd.read_csv('D:/A_sem2/ERP/Code/GitHub_Junjie/features_Manchester.csv')         # 基准完整表\n",
    "df_a = pd.read_excel('D:/A_sem2/ERP/Code/HIA_Man_max_min_mean.xlsx')        # 缺失行的表\n",
    "\n",
    "# 这里假定你能用B表的某些字段判断哪些行是A表的“有效行”\n",
    "# 例如：有效行是B表第3列不为空\n",
    "mask = ~df_b.iloc[:, 2].isna()  # 替换为你实际逻辑\n",
    "\n",
    "# 新建补空表\n",
    "df_res = pd.DataFrame(np.nan, index=range(len(df_b)), columns=df_a.columns)\n",
    "# 用mask找出有效行，把A表顺序塞入这些位置\n",
    "df_res.loc[mask, :] = df_a.values\n",
    "\n",
    "df_res.to_excel('HIA_Man_max_min_mean_restored.xlsx', index=False)\n",
    "print('A表已插回原位，并补全所有被删空行')"
   ]
  }
 ],
 "metadata": {
  "kernelspec": {
   "display_name": "base",
   "language": "python",
   "name": "python3"
  },
  "language_info": {
   "codemirror_mode": {
    "name": "ipython",
    "version": 3
   },
   "file_extension": ".py",
   "mimetype": "text/x-python",
   "name": "python",
   "nbconvert_exporter": "python",
   "pygments_lexer": "ipython3",
   "version": "3.12.3"
  }
 },
 "nbformat": 4,
 "nbformat_minor": 5
}
