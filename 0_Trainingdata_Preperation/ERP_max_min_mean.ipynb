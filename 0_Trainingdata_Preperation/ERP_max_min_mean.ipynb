{
 "cells": [
  {
   "cell_type": "code",
   "execution_count": 7,
   "id": "bb8c2423",
   "metadata": {},
   "outputs": [],
   "source": [
    "#!pip install netCDF4\n",
    "import os\n",
    "from netCDF4 import Dataset\n",
    "import numpy as np\n",
    "import pandas as pd\n",
    "import matplotlib.pyplot as plt\n",
    "from scipy.signal import find_peaks\n"
   ]
  },
  {
   "cell_type": "code",
   "execution_count": 8,
   "id": "186b79f3",
   "metadata": {},
   "outputs": [
    {
     "name": "stdout",
     "output_type": "stream",
     "text": [
      "Currently processing file 0\n",
      "Currently processing file 1000\n",
      "Currently processing file 2000\n",
      "Currently processing file 3000\n",
      "Currently processing file 4000\n"
     ]
    }
   ],
   "source": [
    "# Set root directory (replace with your own path)\n",
    "root_dir = r'D:\\\\A_sem2\\\\ERP\\\\Simulation\\\\new_lhs\\\\man_exp\\\\lhs_data'  #'D:\\\\A_sem2\\\\ERP\\\\Simulation\\\\new_lhs\\\\lhs_exp\\\\lhs_data'  \n",
    "n_files = 4596 # 100000  \n",
    "result = []\n",
    "\n",
    "\n",
    "\n",
    "for i in range(n_files):\n",
    "    nc_path = os.path.join(root_dir, f'{i}.nc')\n",
    "    \n",
    "    with Dataset(nc_path, 'r') as ds:\n",
    "            # Extract TSA and squeeze to 1D\n",
    "            tar_var = ds.variables['TSA'][:].squeeze()       # ensure shape=(N,)\n",
    "            # # If there are fill values, remove them as outliers (example using 1e36, modify as needed)\n",
    "            # TSA = TSA[TSA < 1e35]\n",
    "\n",
    "            # Find maximum peaks and compute their mean\n",
    "            peaks_max, properties = find_peaks(tar_var, prominence=1)\n",
    "            tar_var_peak_max = tar_var[peaks_max]\n",
    "            tar_var_peak_max_mean = tar_var_peak_max.mean()\n",
    "\n",
    "            # Find minimum peaks and compute their mean\n",
    "            peaks_min, properties = find_peaks(-tar_var, prominence=1)\n",
    "            tar_var_peak_min = tar_var[peaks_min]\n",
    "            tar_var_peak_min_mean = tar_var_peak_min.mean()\n",
    "\n",
    "            # Compute the mean value\n",
    "            tar_var_mean = tar_var.mean()\n",
    "        \n",
    "            result.append([tar_var_peak_max_mean, tar_var_peak_min_mean, tar_var_mean])\n",
    "\n",
    "            if i % 1000 == 0:\n",
    "                print(f'Currently processing file {i}')\n",
    "            \n"
   ]
  },
  {
   "cell_type": "code",
   "execution_count": 9,
   "id": "7dba4e35",
   "metadata": {},
   "outputs": [
    {
     "name": "stdout",
     "output_type": "stream",
     "text": [
      "Save completed.\n"
     ]
    }
   ],
   "source": [
    "\n",
    "# Write to Excel\n",
    "df = pd.DataFrame(result, columns=['TSA_peak_max_mean', 'TSA_peak_min_mean', 'TSA_mean'])\n",
    "df.to_excel('TSA_Man_max_min_mean.xlsx', index=False)\n",
    "print('Save completed.')\n",
    "\n",
    "\n",
    "\n",
    "\n",
    "\n"
   ]
  },
  {
   "cell_type": "code",
   "execution_count": 8,
   "id": "acd16a7b",
   "metadata": {},
   "outputs": [
    {
     "name": "stdout",
     "output_type": "stream",
     "text": [
      "(96, 1)\n",
      "[37.21966 40.26356 39.57312]\n",
      "[4581.771  4582.625  4582.7085]\n",
      "39.01878\n"
     ]
    }
   ],
   "source": [
    "# Open NetCDF file\n",
    "nc_file = 'D:\\\\A_sem2\\\\ERP\\\\Simulation\\\\lhs_data\\\\lhs_data\\\\0.nc'\n",
    "ds = Dataset(nc_file, 'r')\n",
    "\n",
    "# # Print all variables\n",
    "# print(ds.variables.keys())\n",
    "\n",
    "# Read time variable\n",
    "time = ds.variables['time'][:]  # \n",
    "# Read a target variable\n",
    "tar_variable = ds.variables['HUMIDEX'][:]  #\n",
    "\n",
    "# Read attributes\n",
    "# print(TSA)\n",
    "print(tar_variable.shape)\n",
    "# Close file\n",
    "ds.close()\n",
    "\n",
    "tar_variable = tar_variable.squeeze() \n",
    "# Generally, you can set the prominence parameter appropriately to exclude 'false peaks' from small fluctuations\n",
    "peaks, properties = find_peaks(tar_variable, prominence=1)\n",
    "peak_tar_varaible = tar_variable[peaks]\n",
    "peak_time = time[peaks]\n",
    "print(peak_tar_varaible)\n",
    "print(peak_time)\n",
    "\n",
    "peak_tar_varaible_mean = peak_tar_varaible.mean() # Note to include parentheses!\n",
    "print(peak_tar_varaible_mean)\n",
    "\n"
   ]
  }
 ],
 "metadata": {
  "kernelspec": {
   "display_name": "base",
   "language": "python",
   "name": "python3"
  },
  "language_info": {
   "codemirror_mode": {
    "name": "ipython",
    "version": 3
   },
   "file_extension": ".py",
   "mimetype": "text/x-python",
   "name": "python",
   "nbconvert_exporter": "python",
   "pygments_lexer": "ipython3"
  },
  "version": "3.12.3"
 },
 "nbformat": 4,
 "nbformat_minor": 5
}
