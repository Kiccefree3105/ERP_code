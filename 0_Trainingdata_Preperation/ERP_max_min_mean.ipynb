{
 "cells": [
  {
   "cell_type": "code",
   "execution_count": 7,
   "id": "bb8c2423",
   "metadata": {},
   "outputs": [],
   "source": [
    "#!pip install netCDF4\n",
    "import os\n",
    "from netCDF4 import Dataset\n",
    "import numpy as np\n",
    "import pandas as pd\n",
    "import matplotlib.pyplot as plt\n",
    "from scipy.signal import find_peaks\n"
   ]
  },
  {
   "cell_type": "code",
   "execution_count": 8,
   "id": "186b79f3",
   "metadata": {},
   "outputs": [
    {
     "name": "stdout",
     "output_type": "stream",
     "text": [
      "当前正在处理第0个文件\n",
      "当前正在处理第1000个文件\n",
      "当前正在处理第2000个文件\n",
      "当前正在处理第3000个文件\n",
      "当前正在处理第4000个文件\n"
     ]
    }
   ],
   "source": [
    "# 设置根目录（换成你自己的路径）  \n",
    "root_dir = r'D:\\\\A_sem2\\\\ERP\\\\Simulation\\\\new_lhs\\\\man_exp\\\\lhs_data'  #'D:\\\\A_sem2\\\\ERP\\\\Simulation\\\\new_lhs\\\\lhs_exp\\\\lhs_data'  \n",
    "n_files = 4596 # 100000  \n",
    "result = []\n",
    "\n",
    "\n",
    "\n",
    "for i in range(n_files):\n",
    "    nc_path = os.path.join(root_dir, f'{i}.nc')\n",
    "    \n",
    "    with Dataset(nc_path, 'r') as ds:\n",
    "            # 取TSA并压缩为1D\n",
    "            tar_var = ds.variables['TSA'][:].squeeze()       # 保证shape=(N,)\n",
    "            # # 若有填充值做异常剔除（以1e36为例，可按实际需要修改）\n",
    "            # TSA = TSA[TSA < 1e35]\n",
    "\n",
    "            # 找最大峰值并求平均\n",
    "            peaks_max, properties = find_peaks(tar_var, prominence=1)\n",
    "            tar_var_peak_max = tar_var[peaks_max]\n",
    "            tar_var_peak_max_mean = tar_var_peak_max.mean()\n",
    "\n",
    "            # 找最小峰值并求平均\n",
    "            peaks_min, properties = find_peaks(-tar_var, prominence=1)\n",
    "            tar_var_peak_min = tar_var[peaks_min]\n",
    "            tar_var_peak_min_mean = tar_var_peak_min.mean()\n",
    "\n",
    "            # 求平均值\n",
    "            tar_var_mean = tar_var.mean()\n",
    "        \n",
    "            result.append([tar_var_peak_max_mean, tar_var_peak_min_mean, tar_var_mean])\n",
    "\n",
    "            if i % 1000 == 0:\n",
    "                print(f'当前正在处理第{i}个文件')\n",
    "            \n"
   ]
  },
  {
   "cell_type": "code",
   "execution_count": 9,
   "id": "7dba4e35",
   "metadata": {},
   "outputs": [
    {
     "name": "stdout",
     "output_type": "stream",
     "text": [
      "保存完成。\n"
     ]
    }
   ],
   "source": [
    "\n",
    "# 写入Excel\n",
    "df = pd.DataFrame(result, columns=['TSA_peak_max_mean', 'TSA_peak_min_mean', 'TSA_mean'])\n",
    "df.to_excel('TSA_Man_max_min_mean.xlsx', index=False)\n",
    "print('保存完成。')\n",
    "\n",
    "\n",
    "\n",
    "\n",
    "\n"
   ]
  },
  {
   "cell_type": "code",
   "execution_count": 8,
   "id": "acd16a7b",
   "metadata": {},
   "outputs": [
    {
     "name": "stdout",
     "output_type": "stream",
     "text": [
      "(96, 1)\n",
      "[37.21966 40.26356 39.57312]\n",
      "[4581.771  4582.625  4582.7085]\n",
      "39.01878\n"
     ]
    }
   ],
   "source": [
    "# 打开 NetCDF 文件\n",
    "nc_file = 'D:\\\\A_sem2\\\\ERP\\\\Simulation\\\\lhs_data\\\\lhs_data\\\\0.nc'\n",
    "ds = Dataset(nc_file, 'r')\n",
    "\n",
    "# # 查看所有变量\n",
    "# print(ds.variables.keys())\n",
    "\n",
    "# 读取时间变量\n",
    "time = ds.variables['time'][:]  # \n",
    "# 读取某个变量\n",
    "tar_variable = ds.variables['HUMIDEX'][:]  #\n",
    "\n",
    "# 读取属性\n",
    "# print(TSA)\n",
    "print(tar_variable.shape)\n",
    "# 关闭文件\n",
    "ds.close()\n",
    "\n",
    "tar_variable = tar_variable.squeeze() \n",
    "# 一般来说，你可以适当设置prominence参数，排除小波动的“虚假峰值”\n",
    "peaks, properties = find_peaks(tar_variable, prominence=1)\n",
    "peak_tar_varaible = tar_variable[peaks]\n",
    "peak_time = time[peaks]\n",
    "print(peak_tar_varaible)\n",
    "print(peak_time)\n",
    "\n",
    "peak_tar_varaible_mean = peak_tar_varaible.mean() # 注意要加括号！\n",
    "print(peak_tar_varaible_mean)\n",
    "\n"
   ]
  }
 ],
 "metadata": {
  "kernelspec": {
   "display_name": "base",
   "language": "python",
   "name": "python3"
  },
  "language_info": {
   "codemirror_mode": {
    "name": "ipython",
    "version": 3
   },
   "file_extension": ".py",
   "mimetype": "text/x-python",
   "name": "python",
   "nbconvert_exporter": "python",
   "pygments_lexer": "ipython3",
   "version": "3.12.3"
  }
 },
 "nbformat": 4,
 "nbformat_minor": 5
}
